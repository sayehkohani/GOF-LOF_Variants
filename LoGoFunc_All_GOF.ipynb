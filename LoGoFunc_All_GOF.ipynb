{
 "cells": [
  {
   "cell_type": "code",
   "execution_count": null,
   "id": "ac374fb9",
   "metadata": {},
   "outputs": [],
   "source": [
    "## Isolate all GOF\n",
    "\n",
    "all_gof_df = logofunc_predictions_bamovar[logofunc_predictions_bamovar['prediction'] == 'GOF']\n",
    "\n",
    "# Find top genes\n",
    "gof_per_gene_dict = all_gof_df['Gene_Symbol'].value_counts().to_dict()\n",
    "gof_per_gene_df = pd.DataFrame(list(gof_per_gene_dict.items()), columns = ['Gene','#GOF_LoGoFunc'])\n",
    "\n",
    "gof_per_gene_df.to_csv('/Users/sayehkohani/Dropbox/Research/Sanders_Lab/GoF/Output/All_GOF_LoGoFunc.txt', sep = '\\t')"
   ]
  },
  {
   "cell_type": "code",
   "execution_count": null,
   "id": "100fa363",
   "metadata": {},
   "outputs": [],
   "source": [
    "# Merge with the annotated file\n",
    "\n",
    "annotated_all_gof = pd.read_excel('/Users/sayehkohani/Dropbox/Research/Sanders_Lab/GoF/Output/Annotated_GOF_Per_Gene_HGMD_ClinVar.xlsx')\n",
    "merged_all_gof = pd.merge(gof_per_gene_df, annotated_all_gof, on = 'Gene', how = 'outer')\n",
    "merged_all_gof.to_csv('/Users/sayehkohani/Dropbox/Research/Sanders_Lab/GoF/Output/Annotated_GOF_Per_Gene_All.txt', sep = '\\t', index=False)"
   ]
  },
  {
   "cell_type": "code",
   "execution_count": null,
   "id": "a341e0c1",
   "metadata": {},
   "outputs": [],
   "source": [
    "# Adding Fu_NDD664 Data\n",
    "\n",
    "combo_gene_df = pd.read_csv('/Users/sayehkohani/Data/Reference Databases/Combo_Genes/ref_combo_genes_panel_gnomAD_omim_hpo1_hpo2_hpo3_asd.txt', sep = '\\t')\n",
    "ASD_df = pd.DataFrame({\n",
    "    'Gene': combo_gene_df['Gene_symbol'],\n",
    "    'NDD_664_Fu': combo_gene_df['Fu_NDD664']\n",
    "})\n",
    "\n",
    "merged_all_gof_fu = pd.merge(merged_all_gof, ASD_df, how = 'left', on = 'Gene')\n"
   ]
  },
  {
   "cell_type": "code",
   "execution_count": null,
   "id": "9a6428af",
   "metadata": {},
   "outputs": [],
   "source": [
    "# Adding NDD Panel Data\n",
    "\n",
    "NDD_panel_df = pd.read_excel('/Users/sayehkohani/Data/Reference Databases/NDD_Panel_genes_freq.xlsx')\n",
    "sub_NDD_panel_df = pd.DataFrame({\n",
    "    'Gene': NDD_panel_df['Gene'],\n",
    "    'asd.dn.ptv': NDD_panel_df['asd.dn.ptv'],\n",
    "    'asd.dn.misa': NDD_panel_df['asd.dn.misa'],\n",
    "    'asd.dn.misb': NDD_panel_df['asd.dn.misb'],\n",
    "    'asd.case.ptv': NDD_panel_df['asd.case.ptv'],\n",
    "    'asd.control.ptv': NDD_panel_df['asd.control.ptv'],\n",
    "    'ddd.dn.ptv': NDD_panel_df['ddd.dn.ptv'],\n",
    "    'ddd.dn.mis': NDD_panel_df['ddd.dn.mis']\n",
    "})\n",
    "\n",
    "merged_all_gof_fu_NDD = pd.merge(merged_all_gof_fu, sub_NDD_panel_df, on = 'Gene', how = 'left')\n",
    "\n",
    "merged_all_gof_fu_NDD.to_csv('/Users/sayehkohani/Dropbox/Research/Sanders_Lab/GoF/Output/Annotated_GOF_Per_Gene_All_Fu_NDD.txt', sep = '\\t', index=False)\n"
   ]
  }
 ],
 "metadata": {
  "kernelspec": {
   "display_name": "Python 3 (ipykernel)",
   "language": "python",
   "name": "python3"
  },
  "language_info": {
   "codemirror_mode": {
    "name": "ipython",
    "version": 3
   },
   "file_extension": ".py",
   "mimetype": "text/x-python",
   "name": "python",
   "nbconvert_exporter": "python",
   "pygments_lexer": "ipython3",
   "version": "3.9.7"
  }
 },
 "nbformat": 4,
 "nbformat_minor": 5
}
