{
 "cells": [
  {
   "cell_type": "code",
   "execution_count": 1,
   "id": "d0a5414d",
   "metadata": {},
   "outputs": [],
   "source": [
    "import pandas as pd"
   ]
  },
  {
   "cell_type": "code",
   "execution_count": 21,
   "id": "83c4c826",
   "metadata": {},
   "outputs": [],
   "source": [
    "gof_per_gene_HGMD_df = pd.read_excel('/Users/sayehkohani/Dropbox/Research/Sanders_Lab/GoF/Output/GOF_Per_Gene_HGMD.xlsx', index_col=0, names = ['Gene_symbol','GOF'])"
   ]
  },
  {
   "cell_type": "code",
   "execution_count": 23,
   "id": "63dc1765",
   "metadata": {},
   "outputs": [
    {
     "name": "stderr",
     "output_type": "stream",
     "text": [
      "/Users/sayehkohani/opt/anaconda3/lib/python3.9/site-packages/IPython/core/interactiveshell.py:3444: DtypeWarning: Columns (4,6,7,9,10,11,12) have mixed types.Specify dtype option on import or set low_memory=False.\n",
      "  exec(code_obj, self.user_global_ns, self.user_ns)\n"
     ]
    }
   ],
   "source": [
    "combo_gene_df = pd.read_csv('/Users/sayehkohani/Data/ref_combo_genes_panel_gnomAD_omim_hpo1_hpo2_hpo3_asd.txt', sep = '\\t')"
   ]
  },
  {
   "cell_type": "code",
   "execution_count": 25,
   "id": "68d5e37e",
   "metadata": {},
   "outputs": [],
   "source": [
    "ASD_df = combo_gene_df[combo_gene_df['Fu_NDD664'] == '1'][['Gene_symbol']]"
   ]
  },
  {
   "cell_type": "code",
   "execution_count": 29,
   "id": "bad8be2c",
   "metadata": {},
   "outputs": [],
   "source": [
    "union_df = pd.merge(gof_per_gene_HGMD_df, ASD_df, how = 'inner', on = 'Gene_symbol')"
   ]
  },
  {
   "cell_type": "code",
   "execution_count": 35,
   "id": "93f9989a",
   "metadata": {},
   "outputs": [],
   "source": [
    "union_df.to_excel('/Users/sayehkohani/Dropbox/Research/Sanders_Lab/GoF/Output/Fu_NDD664_HGMD.xlsx')"
   ]
  }
 ],
 "metadata": {
  "kernelspec": {
   "display_name": "Python 3 (ipykernel)",
   "language": "python",
   "name": "python3"
  },
  "language_info": {
   "codemirror_mode": {
    "name": "ipython",
    "version": 3
   },
   "file_extension": ".py",
   "mimetype": "text/x-python",
   "name": "python",
   "nbconvert_exporter": "python",
   "pygments_lexer": "ipython3",
   "version": "3.9.7"
  }
 },
 "nbformat": 4,
 "nbformat_minor": 5
}
