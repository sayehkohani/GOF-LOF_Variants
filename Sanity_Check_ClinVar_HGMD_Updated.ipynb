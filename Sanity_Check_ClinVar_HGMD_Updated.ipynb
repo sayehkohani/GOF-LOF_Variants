{
 "cells": [
  {
   "cell_type": "code",
   "execution_count": 1,
   "id": "a7058521",
   "metadata": {},
   "outputs": [],
   "source": [
    "#imports\n",
    "\n",
    "import pandas as pd"
   ]
  },
  {
   "cell_type": "code",
   "execution_count": 2,
   "id": "58cbdfd4",
   "metadata": {},
   "outputs": [],
   "source": [
    "HGMD_df = pd.read_csv('/Users/sayehkohani/Data/goflof_HGMD2019_v032021.csv')\n",
    "ClinVar_df = pd.read_csv('/Users/sayehkohani/Data/goflof_ClinVar_v062021.csv')"
   ]
  },
  {
   "cell_type": "code",
   "execution_count": 4,
   "id": "8609d009",
   "metadata": {
    "scrolled": false
   },
   "outputs": [
    {
     "data": {
      "text/html": [
       "<div>\n",
       "<style scoped>\n",
       "    .dataframe tbody tr th:only-of-type {\n",
       "        vertical-align: middle;\n",
       "    }\n",
       "\n",
       "    .dataframe tbody tr th {\n",
       "        vertical-align: top;\n",
       "    }\n",
       "\n",
       "    .dataframe thead th {\n",
       "        text-align: right;\n",
       "    }\n",
       "</style>\n",
       "<table border=\"1\" class=\"dataframe\">\n",
       "  <thead>\n",
       "    <tr style=\"text-align: right;\">\n",
       "      <th></th>\n",
       "      <th>ID</th>\n",
       "      <th>LABEL</th>\n",
       "      <th>CHROM</th>\n",
       "      <th>POS</th>\n",
       "      <th>GENE</th>\n",
       "    </tr>\n",
       "  </thead>\n",
       "  <tbody>\n",
       "    <tr>\n",
       "      <th>26</th>\n",
       "      <td>CM075932</td>\n",
       "      <td>GOF</td>\n",
       "      <td>9</td>\n",
       "      <td>107571760</td>\n",
       "      <td>ABCA1</td>\n",
       "    </tr>\n",
       "    <tr>\n",
       "      <th>27</th>\n",
       "      <td>CM075933</td>\n",
       "      <td>GOF</td>\n",
       "      <td>9</td>\n",
       "      <td>107547790</td>\n",
       "      <td>ABCA1</td>\n",
       "    </tr>\n",
       "    <tr>\n",
       "      <th>28</th>\n",
       "      <td>CM075935</td>\n",
       "      <td>GOF</td>\n",
       "      <td>9</td>\n",
       "      <td>107576465</td>\n",
       "      <td>ABCA1</td>\n",
       "    </tr>\n",
       "    <tr>\n",
       "      <th>122</th>\n",
       "      <td>BM1224901</td>\n",
       "      <td>GOF</td>\n",
       "      <td>11</td>\n",
       "      <td>17483351</td>\n",
       "      <td>ABCC8</td>\n",
       "    </tr>\n",
       "    <tr>\n",
       "      <th>144</th>\n",
       "      <td>CM073979</td>\n",
       "      <td>GOF</td>\n",
       "      <td>11</td>\n",
       "      <td>17434943</td>\n",
       "      <td>ABCC8</td>\n",
       "    </tr>\n",
       "  </tbody>\n",
       "</table>\n",
       "</div>"
      ],
      "text/plain": [
       "            ID LABEL CHROM        POS   GENE\n",
       "26    CM075932   GOF     9  107571760  ABCA1\n",
       "27    CM075933   GOF     9  107547790  ABCA1\n",
       "28    CM075935   GOF     9  107576465  ABCA1\n",
       "122  BM1224901   GOF    11   17483351  ABCC8\n",
       "144   CM073979   GOF    11   17434943  ABCC8"
      ]
     },
     "execution_count": 4,
     "metadata": {},
     "output_type": "execute_result"
    }
   ],
   "source": [
    "HGMD_df.head()"
   ]
  },
  {
   "cell_type": "code",
   "execution_count": 5,
   "id": "910eec33",
   "metadata": {},
   "outputs": [
    {
     "data": {
      "text/html": [
       "<div>\n",
       "<style scoped>\n",
       "    .dataframe tbody tr th:only-of-type {\n",
       "        vertical-align: middle;\n",
       "    }\n",
       "\n",
       "    .dataframe tbody tr th {\n",
       "        vertical-align: top;\n",
       "    }\n",
       "\n",
       "    .dataframe thead th {\n",
       "        text-align: right;\n",
       "    }\n",
       "</style>\n",
       "<table border=\"1\" class=\"dataframe\">\n",
       "  <thead>\n",
       "    <tr style=\"text-align: right;\">\n",
       "      <th></th>\n",
       "      <th>AlleleID</th>\n",
       "      <th>LABEL</th>\n",
       "      <th>Chromosome</th>\n",
       "      <th>PositionVCF</th>\n",
       "      <th>ReferenceAlleleVCF</th>\n",
       "      <th>AlternateAlleleVCF</th>\n",
       "      <th>RSnumber</th>\n",
       "      <th>GeneSymbol</th>\n",
       "      <th>Name</th>\n",
       "    </tr>\n",
       "  </thead>\n",
       "  <tbody>\n",
       "    <tr>\n",
       "      <th>87</th>\n",
       "      <td>380248</td>\n",
       "      <td>GOF</td>\n",
       "      <td>11</td>\n",
       "      <td>17474775</td>\n",
       "      <td>T</td>\n",
       "      <td>C</td>\n",
       "      <td>5.985284e+07</td>\n",
       "      <td>ABCC8</td>\n",
       "      <td>NM_000352.6(ABCC8):c.1067A&gt;G (p.Tyr356Cys)</td>\n",
       "    </tr>\n",
       "    <tr>\n",
       "      <th>90</th>\n",
       "      <td>44289</td>\n",
       "      <td>GOF</td>\n",
       "      <td>11</td>\n",
       "      <td>17482160</td>\n",
       "      <td>C</td>\n",
       "      <td>T</td>\n",
       "      <td>1.485290e+08</td>\n",
       "      <td>ABCC8</td>\n",
       "      <td>NM_000352.6(ABCC8):c.886G&gt;A (p.Gly296Arg)</td>\n",
       "    </tr>\n",
       "    <tr>\n",
       "      <th>92</th>\n",
       "      <td>207853</td>\n",
       "      <td>GOF</td>\n",
       "      <td>11</td>\n",
       "      <td>17470143</td>\n",
       "      <td>A</td>\n",
       "      <td>G</td>\n",
       "      <td>6.725467e+07</td>\n",
       "      <td>ABCC8</td>\n",
       "      <td>NM_000352.6(ABCC8):c.1252T&gt;C (p.Cys418Arg)</td>\n",
       "    </tr>\n",
       "    <tr>\n",
       "      <th>99</th>\n",
       "      <td>358095</td>\n",
       "      <td>GOF</td>\n",
       "      <td>12</td>\n",
       "      <td>121174892</td>\n",
       "      <td>TC</td>\n",
       "      <td>T</td>\n",
       "      <td>1.035364e+09</td>\n",
       "      <td>ACADS</td>\n",
       "      <td>NM_000017.4(ACADS):c.315del (p.Ser106fs)</td>\n",
       "    </tr>\n",
       "    <tr>\n",
       "      <th>100</th>\n",
       "      <td>200245</td>\n",
       "      <td>GOF</td>\n",
       "      <td>12</td>\n",
       "      <td>121177120</td>\n",
       "      <td>A</td>\n",
       "      <td>G</td>\n",
       "      <td>5.663259e+08</td>\n",
       "      <td>ACADS</td>\n",
       "      <td>NM_000017.4(ACADS):c.1108A&gt;G (p.Met370Val)</td>\n",
       "    </tr>\n",
       "  </tbody>\n",
       "</table>\n",
       "</div>"
      ],
      "text/plain": [
       "     AlleleID LABEL Chromosome  PositionVCF ReferenceAlleleVCF  \\\n",
       "87     380248   GOF         11     17474775                  T   \n",
       "90      44289   GOF         11     17482160                  C   \n",
       "92     207853   GOF         11     17470143                  A   \n",
       "99     358095   GOF         12    121174892                 TC   \n",
       "100    200245   GOF         12    121177120                  A   \n",
       "\n",
       "    AlternateAlleleVCF      RSnumber GeneSymbol  \\\n",
       "87                   C  5.985284e+07      ABCC8   \n",
       "90                   T  1.485290e+08      ABCC8   \n",
       "92                   G  6.725467e+07      ABCC8   \n",
       "99                   T  1.035364e+09      ACADS   \n",
       "100                  G  5.663259e+08      ACADS   \n",
       "\n",
       "                                           Name  \n",
       "87   NM_000352.6(ABCC8):c.1067A>G (p.Tyr356Cys)  \n",
       "90    NM_000352.6(ABCC8):c.886G>A (p.Gly296Arg)  \n",
       "92   NM_000352.6(ABCC8):c.1252T>C (p.Cys418Arg)  \n",
       "99     NM_000017.4(ACADS):c.315del (p.Ser106fs)  \n",
       "100  NM_000017.4(ACADS):c.1108A>G (p.Met370Val)  "
      ]
     },
     "execution_count": 5,
     "metadata": {},
     "output_type": "execute_result"
    }
   ],
   "source": [
    "ClinVar_df.head()"
   ]
  },
  {
   "cell_type": "markdown",
   "id": "e6f21c1a",
   "metadata": {},
   "source": [
    "## SLC6A1"
   ]
  },
  {
   "cell_type": "code",
   "execution_count": 65,
   "id": "9ffd7024",
   "metadata": {},
   "outputs": [],
   "source": [
    "SLC6A1_HGMD_df = HGMD_df[HGMD_df['GENE'] == 'SLC6A1']\n",
    "SLC6A1_ClinVar_df = ClinVar_df[ClinVar_df['GeneSymbol'] == 'SLC6A1']"
   ]
  },
  {
   "cell_type": "code",
   "execution_count": 69,
   "id": "241198be",
   "metadata": {
    "scrolled": true
   },
   "outputs": [],
   "source": [
    "all_variants_SLC6A1_df = pd.read_excel('/Users/sayehkohani/Data/GOF/Table_SS_All_Possible_SLC6A1_Variants.xlsx')"
   ]
  },
  {
   "cell_type": "code",
   "execution_count": 71,
   "id": "944a73c7",
   "metadata": {},
   "outputs": [],
   "source": [
    "SLC6A1_ClinVar_union_df = pd.merge(SLC6A1_ClinVar_df, all_variants_SLC6A1_df, how = 'inner', on ='Var_ID_hg19')"
   ]
  },
  {
   "cell_type": "code",
   "execution_count": 73,
   "id": "da8806c1",
   "metadata": {
    "scrolled": false
   },
   "outputs": [
    {
     "name": "stderr",
     "output_type": "stream",
     "text": [
      "/Users/sayehkohani/opt/anaconda3/lib/python3.9/site-packages/pandas/core/frame.py:5039: SettingWithCopyWarning: \n",
      "A value is trying to be set on a copy of a slice from a DataFrame\n",
      "\n",
      "See the caveats in the documentation: https://pandas.pydata.org/pandas-docs/stable/user_guide/indexing.html#returning-a-view-versus-a-copy\n",
      "  return super().rename(\n"
     ]
    }
   ],
   "source": [
    "SLC6A1_HGMD_df.rename(columns={'POS': 'Pos_hg19'}, inplace=True)\n",
    "SLC6A1_HGMD_union_df = pd.merge(SLC6A1_HGMD_df, all_variants_SLC6A1_df, how = 'inner', on = 'Pos_hg19')"
   ]
  },
  {
   "cell_type": "code",
   "execution_count": 74,
   "id": "ec5176c8",
   "metadata": {},
   "outputs": [],
   "source": [
    "with pd.ExcelWriter('/Users/sayehkohani/Dropbox/Research/Sanders_Lab/GoF/Output/SLC6A1_HGMD_ClinVar_Sanity_Check.xlsx') as writer:\n",
    "    SLC6A1_HGMD_df.to_excel(writer, sheet_name='HGMD_All_Variants', index=False)\n",
    "    SLC6A1_ClinVar_df.to_excel(writer, sheet_name='ClinVar_All_Variants', index=False)\n",
    "    SLC6A1_HGMD_union_df.to_excel(writer, sheet_name='HGMD_Variants_In_Database', index=False)\n",
    "    SLC6A1_ClinVar_union_df.to_excel(writer, sheet_name='ClinVar_Variants_In_Database', index=False)"
   ]
  },
  {
   "cell_type": "markdown",
   "id": "e7b332ca",
   "metadata": {},
   "source": [
    "## PTEN"
   ]
  },
  {
   "cell_type": "code",
   "execution_count": 75,
   "id": "e4590e25",
   "metadata": {},
   "outputs": [],
   "source": [
    "PTEN_HGMD_df = HGMD_df[HGMD_df['GENE'] == 'PTEN']\n",
    "PTEN_ClinVar_df = ClinVar_df[ClinVar_df['GeneSymbol'] == 'PTEN']\n",
    "\n",
    "all_variants_PTEN_df = pd.read_csv('/Users/sayehkohani/Data/GOF/Sanity Checks/Table_SS_ All_PTEN_variants.txt', sep = '\\t')"
   ]
  },
  {
   "cell_type": "code",
   "execution_count": 115,
   "id": "dbd2998e",
   "metadata": {
    "scrolled": true
   },
   "outputs": [
    {
     "name": "stderr",
     "output_type": "stream",
     "text": [
      "/Users/sayehkohani/opt/anaconda3/lib/python3.9/site-packages/pandas/core/frame.py:5039: SettingWithCopyWarning: \n",
      "A value is trying to be set on a copy of a slice from a DataFrame\n",
      "\n",
      "See the caveats in the documentation: https://pandas.pydata.org/pandas-docs/stable/user_guide/indexing.html#returning-a-view-versus-a-copy\n",
      "  return super().rename(\n"
     ]
    },
    {
     "data": {
      "text/html": [
       "<div>\n",
       "<style scoped>\n",
       "    .dataframe tbody tr th:only-of-type {\n",
       "        vertical-align: middle;\n",
       "    }\n",
       "\n",
       "    .dataframe tbody tr th {\n",
       "        vertical-align: top;\n",
       "    }\n",
       "\n",
       "    .dataframe thead th {\n",
       "        text-align: right;\n",
       "    }\n",
       "</style>\n",
       "<table border=\"1\" class=\"dataframe\">\n",
       "  <thead>\n",
       "    <tr style=\"text-align: right;\">\n",
       "      <th></th>\n",
       "      <th>ID</th>\n",
       "      <th>LABEL</th>\n",
       "      <th>CHROM</th>\n",
       "      <th>Pos_hg19</th>\n",
       "      <th>GENE</th>\n",
       "    </tr>\n",
       "  </thead>\n",
       "  <tbody>\n",
       "    <tr>\n",
       "      <th>6967</th>\n",
       "      <td>CI116930</td>\n",
       "      <td>LOF</td>\n",
       "      <td>10</td>\n",
       "      <td>89720762</td>\n",
       "      <td>PTEN</td>\n",
       "    </tr>\n",
       "    <tr>\n",
       "      <th>6968</th>\n",
       "      <td>CM004280</td>\n",
       "      <td>LOF</td>\n",
       "      <td>10</td>\n",
       "      <td>89653808</td>\n",
       "      <td>PTEN</td>\n",
       "    </tr>\n",
       "    <tr>\n",
       "      <th>6969</th>\n",
       "      <td>CM004336</td>\n",
       "      <td>LOF</td>\n",
       "      <td>10</td>\n",
       "      <td>89692922</td>\n",
       "      <td>PTEN</td>\n",
       "    </tr>\n",
       "    <tr>\n",
       "      <th>6970</th>\n",
       "      <td>CM004524</td>\n",
       "      <td>LOF</td>\n",
       "      <td>10</td>\n",
       "      <td>89720853</td>\n",
       "      <td>PTEN</td>\n",
       "    </tr>\n",
       "    <tr>\n",
       "      <th>6971</th>\n",
       "      <td>CM020754</td>\n",
       "      <td>LOF</td>\n",
       "      <td>10</td>\n",
       "      <td>89692803</td>\n",
       "      <td>PTEN</td>\n",
       "    </tr>\n",
       "  </tbody>\n",
       "</table>\n",
       "</div>"
      ],
      "text/plain": [
       "            ID LABEL CHROM  Pos_hg19  GENE\n",
       "6967  CI116930   LOF    10  89720762  PTEN\n",
       "6968  CM004280   LOF    10  89653808  PTEN\n",
       "6969  CM004336   LOF    10  89692922  PTEN\n",
       "6970  CM004524   LOF    10  89720853  PTEN\n",
       "6971  CM020754   LOF    10  89692803  PTEN"
      ]
     },
     "execution_count": 115,
     "metadata": {},
     "output_type": "execute_result"
    }
   ],
   "source": [
    "PTEN_HGMD_df.rename(columns={'POS': 'Pos_hg19'}, inplace=True)\n",
    "PTEN_ClinVar_df.rename(columns={'PositionVCF': 'Pos_hg19'}, inplace=True)"
   ]
  },
  {
   "cell_type": "code",
   "execution_count": 109,
   "id": "735d8289",
   "metadata": {},
   "outputs": [],
   "source": [
    "all_variants_PTEN_df['COORD'] = all_variants_PTEN_df['Chr']+' '+ all_variants_PTEN_df['Pos_hg38'].astype(str)+' '+all_variants_PTEN_df['Pos_hg38'].astype(str)"
   ]
  },
  {
   "cell_type": "code",
   "execution_count": 110,
   "id": "050f4803",
   "metadata": {},
   "outputs": [],
   "source": [
    "coord_string = all_variants_PTEN_df['COORD'].to_string(index=False)\n",
    "\n",
    "# Specify the file path to save the plain text file\n",
    "file_path = '/Users/sayehkohani/Downloads/PTEN_Hg38_Coord.txt'\n",
    "\n",
    "# Save the DataFrame as a plain text file\n",
    "with open(file_path, 'w') as file:\n",
    "    file.write(coord_string)"
   ]
  },
  {
   "cell_type": "code",
   "execution_count": 111,
   "id": "d65286cb",
   "metadata": {},
   "outputs": [],
   "source": [
    "# open converted hg19 coordinates\n",
    "\n",
    "converted_PTEN_coord_df = pd.read_csv('/Users/sayehkohani/Dropbox/Mac/Desktop/hglft_genome_6241_affb00.bed', sep='\\t', header=None, )\n"
   ]
  },
  {
   "cell_type": "code",
   "execution_count": 119,
   "id": "34559fd5",
   "metadata": {},
   "outputs": [],
   "source": [
    "all_variants_PTEN_df['Pos_hg19'] = converted_PTEN_coord_df[1]"
   ]
  },
  {
   "cell_type": "code",
   "execution_count": 125,
   "id": "77ff386f",
   "metadata": {},
   "outputs": [],
   "source": [
    "all_variants_PTEN_df.to_csv('/Users/sayehkohani/Data/GOF/Sanity Checks/Table_SS_ All_PTEN_variants.txt', sep = '\\t')"
   ]
  },
  {
   "cell_type": "code",
   "execution_count": 121,
   "id": "f823516f",
   "metadata": {},
   "outputs": [],
   "source": [
    "PTEN_HGMD_union_df = pd.merge(PTEN_HGMD_df, all_variants_PTEN_df, how = 'inner', on ='Pos_hg19')"
   ]
  },
  {
   "cell_type": "code",
   "execution_count": 123,
   "id": "7d588d21",
   "metadata": {},
   "outputs": [],
   "source": [
    "PTEN_ClinVar_union_df = pd.merge(PTEN_ClinVar_df, all_variants_PTEN_df, how = 'inner', on ='Pos_hg19')"
   ]
  },
  {
   "cell_type": "code",
   "execution_count": 124,
   "id": "dd8fc0f6",
   "metadata": {},
   "outputs": [],
   "source": [
    "with pd.ExcelWriter('/Users/sayehkohani/Dropbox/Research/Sanders_Lab/GoF/Output/PTEN_HGMD_ClinVar_Sanity_Check.xlsx') as writer:\n",
    "    PTEN_HGMD_df.to_excel(writer, sheet_name='HGMD_All_Variants', index=False)\n",
    "    PTEN_ClinVar_df.to_excel(writer, sheet_name='ClinVar_All_Variants', index=False)\n",
    "    PTEN_HGMD_union_df.to_excel(writer, sheet_name='HGMD_Variants_In_Database', index=False)\n",
    "    PTEN_ClinVar_union_df.to_excel(writer, sheet_name='ClinVar_Variants_In_Database', index=False)"
   ]
  },
  {
   "cell_type": "markdown",
   "id": "9b164734",
   "metadata": {},
   "source": [
    "## SCN2A"
   ]
  },
  {
   "cell_type": "code",
   "execution_count": 126,
   "id": "7e81a4f3",
   "metadata": {},
   "outputs": [],
   "source": [
    "SCN2A_HGMD_df = HGMD_df[HGMD_df['GENE'] == 'SCN2A']\n",
    "SCN2A_ClinVar_df = ClinVar_df[ClinVar_df['GeneSymbol'] == 'SCN2A']\n",
    "\n",
    "all_variants_SCN2A_df = pd.read_excel('/Users/sayehkohani/Data/GOF/Sanity Checks/Table_SS_All_SCN2A_Clinical_Var.xlsx')"
   ]
  },
  {
   "cell_type": "code",
   "execution_count": 128,
   "id": "9b639b64",
   "metadata": {},
   "outputs": [
    {
     "data": {
      "text/html": [
       "<div>\n",
       "<style scoped>\n",
       "    .dataframe tbody tr th:only-of-type {\n",
       "        vertical-align: middle;\n",
       "    }\n",
       "\n",
       "    .dataframe tbody tr th {\n",
       "        vertical-align: top;\n",
       "    }\n",
       "\n",
       "    .dataframe thead th {\n",
       "        text-align: right;\n",
       "    }\n",
       "</style>\n",
       "<table border=\"1\" class=\"dataframe\">\n",
       "  <thead>\n",
       "    <tr style=\"text-align: right;\">\n",
       "      <th></th>\n",
       "      <th>PatientID</th>\n",
       "      <th>PatientSex</th>\n",
       "      <th>PatientAgeAtAssessment</th>\n",
       "      <th>Chr</th>\n",
       "      <th>Pos_hg19</th>\n",
       "      <th>Ref</th>\n",
       "      <th>Alt</th>\n",
       "      <th>Type</th>\n",
       "      <th>Effect</th>\n",
       "      <th>c.DNA</th>\n",
       "      <th>...</th>\n",
       "      <th>UniqueSample/Family</th>\n",
       "      <th>TrueRecurrence</th>\n",
       "      <th>Seizures</th>\n",
       "      <th>SeizureOnsetDays</th>\n",
       "      <th>SeizureType</th>\n",
       "      <th>ASD</th>\n",
       "      <th>DD/ID</th>\n",
       "      <th>DD/ID severity</th>\n",
       "      <th>OtherFeatures</th>\n",
       "      <th>Classification</th>\n",
       "    </tr>\n",
       "  </thead>\n",
       "  <tbody>\n",
       "    <tr>\n",
       "      <th>0</th>\n",
       "      <td>.</td>\n",
       "      <td>M</td>\n",
       "      <td>7y</td>\n",
       "      <td>2</td>\n",
       "      <td>154370122</td>\n",
       "      <td>166384278</td>\n",
       "      <td>12Mb Duplication</td>\n",
       "      <td>CNV</td>\n",
       "      <td>DuplicationCNV</td>\n",
       "      <td>.</td>\n",
       "      <td>...</td>\n",
       "      <td>Y</td>\n",
       "      <td>1</td>\n",
       "      <td>Y</td>\n",
       "      <td>90</td>\n",
       "      <td>Unknown</td>\n",
       "      <td>N</td>\n",
       "      <td>Y</td>\n",
       "      <td>Mild</td>\n",
       "      <td>clumsiness</td>\n",
       "      <td>IEE_Mild/Ataxia</td>\n",
       "    </tr>\n",
       "    <tr>\n",
       "      <th>1</th>\n",
       "      <td>.</td>\n",
       "      <td>F</td>\n",
       "      <td>3y</td>\n",
       "      <td>2</td>\n",
       "      <td>163706754</td>\n",
       "      <td>166506754</td>\n",
       "      <td>2.8Mb Deletion</td>\n",
       "      <td>CNV</td>\n",
       "      <td>DeletionCNV</td>\n",
       "      <td>.</td>\n",
       "      <td>...</td>\n",
       "      <td>Y</td>\n",
       "      <td>1</td>\n",
       "      <td>N</td>\n",
       "      <td>.</td>\n",
       "      <td>None</td>\n",
       "      <td>Y</td>\n",
       "      <td>Y</td>\n",
       "      <td>Severe</td>\n",
       "      <td>dysmorphia, immature myelination</td>\n",
       "      <td>ASD/DD</td>\n",
       "    </tr>\n",
       "    <tr>\n",
       "      <th>2</th>\n",
       "      <td>Patient2</td>\n",
       "      <td>F</td>\n",
       "      <td>18m</td>\n",
       "      <td>2</td>\n",
       "      <td>163875903</td>\n",
       "      <td>166478766</td>\n",
       "      <td>2.6Mb Duplication</td>\n",
       "      <td>CNV</td>\n",
       "      <td>DuplicationCNV</td>\n",
       "      <td>.</td>\n",
       "      <td>...</td>\n",
       "      <td>Y</td>\n",
       "      <td>1</td>\n",
       "      <td>Y</td>\n",
       "      <td>3</td>\n",
       "      <td>Unknown</td>\n",
       "      <td>Unknown</td>\n",
       "      <td>Y</td>\n",
       "      <td>Severe</td>\n",
       "      <td>cerebral atrophy</td>\n",
       "      <td>IEE</td>\n",
       "    </tr>\n",
       "    <tr>\n",
       "      <th>3</th>\n",
       "      <td>Case1,280269</td>\n",
       "      <td>F</td>\n",
       "      <td>4y</td>\n",
       "      <td>2</td>\n",
       "      <td>165798270</td>\n",
       "      <td>166304847</td>\n",
       "      <td>507kb Duplication</td>\n",
       "      <td>CNV</td>\n",
       "      <td>DuplicationCNV</td>\n",
       "      <td>.</td>\n",
       "      <td>...</td>\n",
       "      <td>Y</td>\n",
       "      <td>1</td>\n",
       "      <td>Y</td>\n",
       "      <td>3</td>\n",
       "      <td>Unknown</td>\n",
       "      <td>N</td>\n",
       "      <td>N</td>\n",
       "      <td>.</td>\n",
       "      <td>.</td>\n",
       "      <td>BIS</td>\n",
       "    </tr>\n",
       "    <tr>\n",
       "      <th>4</th>\n",
       "      <td>.</td>\n",
       "      <td>M</td>\n",
       "      <td>3y</td>\n",
       "      <td>2</td>\n",
       "      <td>166019786</td>\n",
       "      <td>166249879</td>\n",
       "      <td>230kb Deletion</td>\n",
       "      <td>CNV</td>\n",
       "      <td>DeletionCNV</td>\n",
       "      <td>.</td>\n",
       "      <td>...</td>\n",
       "      <td>Y</td>\n",
       "      <td>1</td>\n",
       "      <td>N</td>\n",
       "      <td>.</td>\n",
       "      <td>None</td>\n",
       "      <td>Y</td>\n",
       "      <td>Y</td>\n",
       "      <td>Severe</td>\n",
       "      <td>microcephaly</td>\n",
       "      <td>ASD/DD</td>\n",
       "    </tr>\n",
       "  </tbody>\n",
       "</table>\n",
       "<p>5 rows × 27 columns</p>\n",
       "</div>"
      ],
      "text/plain": [
       "      PatientID PatientSex PatientAgeAtAssessment  Chr   Pos_hg19        Ref  \\\n",
       "0             .          M                     7y    2  154370122  166384278   \n",
       "1             .          F                     3y    2  163706754  166506754   \n",
       "2      Patient2          F                    18m    2  163875903  166478766   \n",
       "3  Case1,280269          F                     4y    2  165798270  166304847   \n",
       "4             .          M                     3y    2  166019786  166249879   \n",
       "\n",
       "                 Alt Type          Effect c.DNA  ... UniqueSample/Family  \\\n",
       "0   12Mb Duplication  CNV  DuplicationCNV     .  ...                   Y   \n",
       "1     2.8Mb Deletion  CNV     DeletionCNV     .  ...                   Y   \n",
       "2  2.6Mb Duplication  CNV  DuplicationCNV     .  ...                   Y   \n",
       "3  507kb Duplication  CNV  DuplicationCNV     .  ...                   Y   \n",
       "4     230kb Deletion  CNV     DeletionCNV     .  ...                   Y   \n",
       "\n",
       "  TrueRecurrence Seizures SeizureOnsetDays SeizureType      ASD  DD/ID  \\\n",
       "0              1        Y               90     Unknown        N      Y   \n",
       "1              1        N                .        None        Y      Y   \n",
       "2              1        Y                3     Unknown  Unknown      Y   \n",
       "3              1        Y                3     Unknown        N      N   \n",
       "4              1        N                .        None        Y      Y   \n",
       "\n",
       "  DD/ID severity                     OtherFeatures   Classification  \n",
       "0           Mild                        clumsiness  IEE_Mild/Ataxia  \n",
       "1         Severe  dysmorphia, immature myelination           ASD/DD  \n",
       "2         Severe                  cerebral atrophy              IEE  \n",
       "3              .                                 .              BIS  \n",
       "4         Severe                      microcephaly           ASD/DD  \n",
       "\n",
       "[5 rows x 27 columns]"
      ]
     },
     "execution_count": 128,
     "metadata": {},
     "output_type": "execute_result"
    }
   ],
   "source": []
  },
  {
   "cell_type": "code",
   "execution_count": 129,
   "id": "c3099ea7",
   "metadata": {},
   "outputs": [
    {
     "name": "stderr",
     "output_type": "stream",
     "text": [
      "/Users/sayehkohani/opt/anaconda3/lib/python3.9/site-packages/pandas/core/frame.py:5039: SettingWithCopyWarning: \n",
      "A value is trying to be set on a copy of a slice from a DataFrame\n",
      "\n",
      "See the caveats in the documentation: https://pandas.pydata.org/pandas-docs/stable/user_guide/indexing.html#returning-a-view-versus-a-copy\n",
      "  return super().rename(\n"
     ]
    }
   ],
   "source": [
    "SCN2A_HGMD_df.rename(columns={'POS': 'Pos_hg19'}, inplace=True)\n",
    "SCN2A_ClinVar_df.rename(columns={'PositionVCF': 'Pos_hg19'}, inplace=True)"
   ]
  },
  {
   "cell_type": "code",
   "execution_count": 130,
   "id": "aa91b11a",
   "metadata": {},
   "outputs": [],
   "source": [
    "SCN2A_HGMD_union_df = pd.merge(SCN2A_HGMD_df, all_variants_SCN2A_df, how = 'inner', on ='Pos_hg19')\n",
    "SCN2A_ClinVar_union_df = pd.merge(SCN2A_HGMD_df, all_variants_SCN2A_df, how = 'inner', on ='Pos_hg19')"
   ]
  },
  {
   "cell_type": "code",
   "execution_count": 131,
   "id": "607bdb35",
   "metadata": {},
   "outputs": [],
   "source": [
    "with pd.ExcelWriter('/Users/sayehkohani/Dropbox/Research/Sanders_Lab/GoF/Output/SCN2A_HGMD_ClinVar_Sanity_Check.xlsx') as writer:\n",
    "    SCN2A_HGMD_df.to_excel(writer, sheet_name='HGMD_All_Variants', index=False)\n",
    "    SCN2A_ClinVar_df.to_excel(writer, sheet_name='ClinVar_All_Variants', index=False)\n",
    "    SCN2A_HGMD_union_df.to_excel(writer, sheet_name='HGMD_Variants_In_Database', index=False)\n",
    "    SCN2A_ClinVar_union_df.to_excel(writer, sheet_name='ClinVar_Variants_In_Database', index=False)"
   ]
  },
  {
   "cell_type": "code",
   "execution_count": null,
   "id": "c8fb241f",
   "metadata": {},
   "outputs": [],
   "source": []
  }
 ],
 "metadata": {
  "kernelspec": {
   "display_name": "Python 3 (ipykernel)",
   "language": "python",
   "name": "python3"
  },
  "language_info": {
   "codemirror_mode": {
    "name": "ipython",
    "version": 3
   },
   "file_extension": ".py",
   "mimetype": "text/x-python",
   "name": "python",
   "nbconvert_exporter": "python",
   "pygments_lexer": "ipython3",
   "version": "3.9.7"
  }
 },
 "nbformat": 4,
 "nbformat_minor": 5
}
